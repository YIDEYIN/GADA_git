{
 "cells": [
  {
   "cell_type": "code",
   "execution_count": null,
   "id": "482ebbd8",
   "metadata": {},
   "outputs": [],
   "source": [
    "import numpy as np\n",
    "import networkx as nx\n",
    "import random\n",
    "import torch\n",
    "from torch import nn\n",
    "from torch import optim\n",
    "import torch.utils.data as utils\n",
    "from torchvision import datasets\n",
    "from argparse import Namespace\n",
    "\n",
    "import matplotlib\n",
    "import matplotlib.pyplot as plt \n",
    "\n",
    "import os\n",
    "import sys\n",
    "sys.path.append('path')\n",
    "\n",
    "from cvae_diffusion.model.cvae_muti import CVAE_MUTI\n",
    "from cvae_diffusion.model.cvae import CVAE\n",
    "from cvae_diffusion.model.score_sde import score_sde\n",
    "from cvae_diffusion.model.diffusion import make_diffusion\n",
    "from cvae_diffusion.model.utils import reset_weights\n",
    "from cvae_diffusion.train_gada import train_gada_joint\n",
    "from cvae_diffusion.train_cvae import train_cvae_independent\n",
    "from cvae_diffusion.config import BIN_config_GADA\n",
    "\n",
    "from cvae_diffusion.inv_vae import INV_VAE\n",
    "\n",
    "seed = 666\n",
    "np.random.seed(seed)\n"
   ]
  },
  {
   "cell_type": "markdown",
   "id": "af16965e",
   "metadata": {},
   "source": [
    "生成两组模拟数据"
   ]
  },
  {
   "cell_type": "code",
   "execution_count": null,
   "id": "b0d56fce",
   "metadata": {},
   "outputs": [],
   "source": [
    "#模拟数据参数\n",
    "n_nodes = 68 # 节点数量\n",
    "n_nets = 2000 # 生成图数量\n",
    "n_group_nets = 1000 # 分组"
   ]
  },
  {
   "cell_type": "code",
   "execution_count": null,
   "id": "cd5bcd08",
   "metadata": {},
   "outputs": [],
   "source": [
    "# 生成不同组别的图数据\n",
    "def simulate_networks(category, seed=None):\n",
    "\n",
    "    # 存放不同组别的度矩阵sim_A\n",
    "    B_nets = []\n",
    "\n",
    "    # 添加组别信息\n",
    "    group = np.zeros(n_nets)\n",
    "    group_ids = np.zeros_like(group)\n",
    "    group_ids[n_group_nets:] = 1\n",
    "    \n",
    "    # 设置随机种子\n",
    "    np.random.seed(seed)\n",
    "    group[:n_group_nets] = np.random.normal(0.5, 0.01, n_group_nets)    \n",
    "    group[n_group_nets:] = np.random.normal(1, 0.01, n_nets-n_group_nets)\n",
    "    \n",
    "    for i in range(n_nets):\n",
    "        ## Erdos network\n",
    "        if category == 'Erdos':\n",
    "            G = nx.gnm_random_graph(n_nodes,400)\n",
    "            \n",
    "        ## Small world network\n",
    "        elif category == 'SmallWorld':\n",
    "            G = nx.watts_strogatz_graph(n_nodes, 10, 0.5)\n",
    "                     \n",
    "        ## Random Community network\n",
    "        elif category == 'RandomCommunity':\n",
    "            G = nx.random_partition_graph([n_nodes//2, n_nodes//2], 0.25, 0.01)\n",
    "            \n",
    "        ## Scale free network\n",
    "        elif category == 'ScaleFree':\n",
    "            G = nx.barabasi_albert_graph(n_nodes, 5)\n",
    "            \n",
    "        else:\n",
    "            raise ValueError(\"Invalid category\")\n",
    "                    \n",
    "        A = nx.to_scipy_sparse_array(G).todense().reshape(n_nodes, n_nodes)\n",
    "        B = np.matmul(group[i]*A, group[i]*A)\n",
    "        B[range(n_nodes), range(n_nodes)] = 0\n",
    "        B_nets.append(B)\n",
    "        \n",
    "    return np.array(B_nets), np.array(group_ids)"
   ]
  },
  {
   "cell_type": "code",
   "execution_count": null,
   "id": "30354c70",
   "metadata": {},
   "outputs": [],
   "source": [
    "# 生成不同组别的特性y\n",
    "def simulate_traits(category, seed=None):\n",
    "    alpha = np.zeros(68)\n",
    "    alpha[0:17]= 1\n",
    "    y = []\n",
    "    \n",
    "    B_nets, _ = simulate_networks(category, seed)\n",
    "\n",
    "    for i in range(n_nets):\n",
    "        trait = np.matmul(np.matmul(alpha, B_nets[i]), alpha).item() # 根据公式计算y\n",
    "        y.append(trait)\n",
    "        \n",
    "    # 标准化\n",
    "    y_std = (np.array(y) -  np.mean(np.array(y))) / np.std(np.array(y))\n",
    "    \n",
    "    # 设置随机种子\n",
    "    np.random.seed(seed)\n",
    "    \n",
    "    # 随机噪声\n",
    "    epsilon = np.random.normal(0,1,y_std.shape)\n",
    "    y_std += epsilon\n",
    "    \n",
    "    return np.array(y_std)"
   ]
  },
  {
   "cell_type": "code",
   "execution_count": null,
   "id": "60597aaf",
   "metadata": {
    "scrolled": true
   },
   "outputs": [],
   "source": [
    "# 生成例如RandomCommunity的数据\n",
    "B_nets, group_ids = simulate_networks('RandomCommunity', seed)\n",
    "y = simulate_traits('RandomCommunity', seed)\n",
    "# 打乱顺序\n",
    "np.random.seed(seed)\n",
    "np.random.shuffle(B_nets)\n",
    "np.random.shuffle(group_ids)\n",
    "np.random.shuffle(y)\n",
    "print(B_nets.shape, group_ids.shape, y.shape)"
   ]
  },
  {
   "cell_type": "markdown",
   "id": "2d07c085",
   "metadata": {},
   "source": [
    "Training"
   ]
  },
  {
   "cell_type": "code",
   "execution_count": null,
   "id": "1c9635c5",
   "metadata": {},
   "outputs": [],
   "source": [
    "# 超参数设置\n",
    "device = device = torch.device(\"cuda:0\" if torch.cuda.is_available() else \"cpu\")\n",
    "config = BIN_config_GADA()\n",
    "config.sde_type = 'vesde'\n",
    "config.iw_sample_p = 'drop_all_iw'\n",
    "config.iw_sample_q = 'll_uniform'\n",
    "config.embedding_type = 'fourier'\n",
    "config.sigma2_0 = config.sigma2_min"
   ]
  },
  {
   "cell_type": "code",
   "execution_count": null,
   "id": "c15fa176",
   "metadata": {},
   "outputs": [],
   "source": [
    "print(config)"
   ]
  },
  {
   "cell_type": "code",
   "execution_count": null,
   "id": "03b50814",
   "metadata": {},
   "outputs": [],
   "source": [
    "# 设置训练、验证、测试数据集\n",
    "ids = list(range(n_nets))\n",
    "random.shuffle(ids)\n",
    "# print(ids)\n",
    "\n",
    "train_ids = ids[:int(0.8*n_nets)]\n",
    "val_ids = ids[int(0.8*n_nets):]\n",
    "# print(len(train_ids), len(val_ids), len(test_ids))\n",
    "\n",
    "tensor_nets = torch.stack([torch.Tensor(i) for i in list(B_nets)]).to(torch.float32).view(-1, n_nodes*n_nodes)\n",
    "tensor_group = torch.from_numpy(group_ids).to(torch.float32).view(-1, 1)\n",
    "tensor_trait = torch.from_numpy(y).to(torch.float32).view(-1, 1)\n",
    "\n",
    "\n",
    "train_set = utils.TensorDataset(tensor_nets[train_ids], \n",
    "                        tensor_group[train_ids], tensor_trait[train_ids])\n",
    "val_set = utils.TensorDataset(tensor_nets[val_ids], \n",
    "                        tensor_group[val_ids], tensor_trait[val_ids])\n",
    "\n",
    "train_loader = utils.DataLoader(train_set, config.batch_size, shuffle=True, drop_last=True) \n",
    "val_loader = utils.DataLoader(val_set, config.batch_size, shuffle=False, drop_last=True)"
   ]
  },
  {
   "cell_type": "code",
   "execution_count": null,
   "id": "92889548",
   "metadata": {},
   "outputs": [],
   "source": [
    "# 生成 K 近邻掩码\n",
    "A_mat = np.mean(B_nets, axis=0)\n",
    "A_mat = A_mat + A_mat.transpose()\n",
    "knn_masks = [torch.from_numpy(np.argsort(np.argsort(A_mat, axis=-1), axis=-1) < config.n_neighbors+i).float().to(config.device) for i in range(config.n_dec_layers)]\n",
    "print(len(knn_masks), knn_masks[0].shape)"
   ]
  },
  {
   "cell_type": "code",
   "execution_count": null,
   "id": "815a6f3f",
   "metadata": {},
   "outputs": [],
   "source": [
    "# 创建条件VAE\n",
    "cvae = CVAE(config).to(config.device)\n",
    "#cvae = CVAE_MUTI(config).to(config.device)\n",
    "cvae.apply(reset_weights)\n",
    "cvae.set_mask(knn_masks)\n",
    "# 创建扩散模型\n",
    "diffusion_cont = make_diffusion(config)\n",
    "score = score_sde(config).to(config.device)\n",
    "score.apply(reset_weights)\n",
    "# 优化器\n",
    "cvae.optimizer = optim.Adam(cvae.parameters(), lr=config.lr)\n",
    "score.optimizer = optim.Adam(score.parameters(), lr=config.lr)"
   ]
  },
  {
   "cell_type": "code",
   "execution_count": null,
   "id": "684eca40",
   "metadata": {
    "scrolled": true
   },
   "outputs": [],
   "source": [
    "train_loss_0, val_loss_0 = train_gada_joint(train_loader, val_loader, diffusion_cont, score, score.optimizer, cvae, cvae.optimizer, config.n_epochs, config)"
   ]
  },
  {
   "cell_type": "code",
   "execution_count": null,
   "id": "e8bea0a5",
   "metadata": {},
   "outputs": [],
   "source": [
    "cvae1 = CVAE(config).to(config.device)\n",
    "cvae1.apply(reset_weights)\n",
    "cvae1.set_mask(knn_masks)\n",
    "cvae1.optimizer = optim.Adam(cvae1.parameters(), lr=config.lr)"
   ]
  },
  {
   "cell_type": "code",
   "execution_count": null,
   "id": "75f09f57",
   "metadata": {},
   "outputs": [],
   "source": [
    "train_loss_1, val_loss_1 = train_cvae_independent(train_loader, val_loader, cvae1, cvae1.optimizer, config.device, config.n_epochs, config)"
   ]
  },
  {
   "cell_type": "code",
   "execution_count": null,
   "id": "5be0d172",
   "metadata": {},
   "outputs": [],
   "source": [
    "from cvae_diffusion.helpers import Namespace, reset_weights\n",
    "# model config\n",
    "DEVICE = torch.device('cuda:0' if torch.cuda.is_available() else 'cpu')\n",
    "con = Namespace(n_nodes=68, latent_dim=68, hidden_dim=1024, nuisance_dim=1,\n",
    "    n_enc_layers=1, n_dec_layers=5, n_neighbors=32, drop_out=0.,\n",
    "    beta = 1., gamma = .5, add_reg = True, y_dim = 1,               \n",
    "    batch_size=32, n_epochs=200, lr=3e-6, device=DEVICE)\n",
    "\n",
    "cond_model = INV_VAE(con).to(con.device)\n",
    "cond_model.apply(reset_weights)\n",
    "cond_model.set_mask(knn_masks)\n",
    "optimizer = optim.Adam(cond_model.parameters(), lr=config.lr) "
   ]
  },
  {
   "cell_type": "code",
   "execution_count": null,
   "id": "cacf53bd",
   "metadata": {},
   "outputs": [],
   "source": [
    "train_loss_2 = []\n",
    "val_loss_2 = []\n",
    "for epoch in range(config.n_epochs):\n",
    "    train_losses = cond_model.reg_train(epoch, train_loader, cond_model, optimizer, config.device, n_epoch_display=5)\n",
    "    val_losses = cond_model.reg_test(epoch, val_loader, cond_model, config.device, n_epoch_display=5)\n",
    "    train_loss_2.append(train_losses)\n",
    "    val_loss_2.append(val_losses)\n",
    "    \n",
    "train_loss_2 = np.array(train_loss_2)\n",
    "val_loss_2 = np.array(val_loss_2)"
   ]
  },
  {
   "cell_type": "code",
   "execution_count": null,
   "id": "10d957bc",
   "metadata": {},
   "outputs": [],
   "source": []
  }
 ],
 "metadata": {
  "kernelspec": {
   "display_name": "Python 3 (ipykernel)",
   "language": "python",
   "name": "python3"
  },
  "language_info": {
   "codemirror_mode": {
    "name": "ipython",
    "version": 3
   },
   "file_extension": ".py",
   "mimetype": "text/x-python",
   "name": "python",
   "nbconvert_exporter": "python",
   "pygments_lexer": "ipython3",
   "version": "3.9.16"
  }
 },
 "nbformat": 4,
 "nbformat_minor": 5
}
